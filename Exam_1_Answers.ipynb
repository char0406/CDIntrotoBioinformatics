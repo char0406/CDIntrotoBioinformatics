{
 "cells": [
  {
   "cell_type": "markdown",
   "metadata": {},
   "source": [
    "Problem 1"
   ]
  },
  {
   "cell_type": "code",
   "execution_count": null,
   "metadata": {},
   "outputs": [],
   "source": [
    "cp Locus_Germplasm_Phenotype_20130122.txt  Locus_Germplasm_Phenotype_20130122_copy.txt "
   ]
  },
  {
   "cell_type": "markdown",
   "metadata": {},
   "source": [
    "Problem 2"
   ]
  },
  {
   "cell_type": "code",
   "execution_count": 83,
   "metadata": {
    "scrolled": false
   },
   "outputs": [
    {
     "name": "stdout",
     "output_type": "stream",
     "text": [
      "total 4.7M\n",
      "-rw-rw-r-- 1 osboxes osboxes 1.2M Sep  3 05:57 conv.txt\n",
      "-rw-rw-r-- 1 osboxes osboxes 1.2M Sep  6 07:26 Data_Only.txt\n",
      "-rw-rw-r-- 1 osboxes osboxes  147 Sep  3 05:57 DISCLAIMER\n",
      "-rw-rw-r-- 1 osboxes osboxes  13K Sep  6 10:15 Exam_1_Answers.ipynb\n",
      "-rw-rw-r-- 1 osboxes osboxes 5.5K Sep  3 05:57 Exam\\ Week\\ 1.ipynb\n",
      "-rw-rw-r-- 1 osboxes osboxes 3.9K Sep  3 05:57 Exam\\ Week\\ 2.ipynb\n",
      "-rw-rw-r-- 1 osboxes osboxes 4.2K Sep  3 05:57 Germplasm.tsv\n",
      "-rw-rw-r-- 1 osboxes osboxes  141 Sep  3 05:57 how_to_convert.txt\n",
      "-rw-rw-r-- 1 osboxes osboxes 1.1K Sep  3 05:57 LICENSE\n",
      "-rw-rw-r-- 1 osboxes osboxes  637 Sep  3 05:57 LocusGene.tsv\n",
      "-rw-rw-r-- 1 osboxes osboxes 1.2M Sep  6 05:26 Locus_Germplasm_Phenotype_20130122_copy.txt\n",
      "-rw-rw-r-- 1 osboxes osboxes 1.2M Sep  3 05:57 Locus_Germplasm_Phenotype_20130122.txt\n",
      "-rw-rw-r-- 1 osboxes osboxes  743 Sep  3 05:57 README.md\n",
      "-rw-rw-r-- 1 osboxes osboxes    0 Sep  6 09:54 Root-associated-Loci.txt\n",
      "-rw-rw-r-- 1 osboxes osboxes    0 Sep  6 09:54 Root-associated-Publications.txt\n"
     ]
    }
   ],
   "source": [
    "dir -lh"
   ]
  },
  {
   "cell_type": "markdown",
   "metadata": {},
   "source": [
    "The Owner is allowed to read and write, The group is allowed to read and write and everyone is allowed to read and no one is allowed to execute\n",
    "\n",
    "the dir command creates a directory\n",
    "the -l creates a list \n",
    "the -h makes it show the size in a human readable way"
   ]
  },
  {
   "cell_type": "markdown",
   "metadata": {},
   "source": [
    "Problem 3 "
   ]
  },
  {
   "cell_type": "code",
   "execution_count": 11,
   "metadata": {},
   "outputs": [
    {
     "name": "stdout",
     "output_type": "stream",
     "text": [
      "Locus_name)\tGermplasm_name\tphenotype\tpubmed_id\n"
     ]
    }
   ],
   "source": [
    "head -1 Locus_Germplasm_Phenotype_20130122.txt"
   ]
  },
  {
   "cell_type": "markdown",
   "metadata": {},
   "source": [
    "the command head shows the first 20 lines by default, the -1 makes it only show the first"
   ]
  },
  {
   "cell_type": "markdown",
   "metadata": {},
   "source": [
    "Problem 4 "
   ]
  },
  {
   "cell_type": "code",
   "execution_count": 13,
   "metadata": {},
   "outputs": [
    {
     "name": "stdout",
     "output_type": "stream",
     "text": [
      "7216 Locus_Germplasm_Phenotype_20130122.txt\n"
     ]
    }
   ],
   "source": [
    "wc -l Locus_Germplasm_Phenotype_20130122.txt"
   ]
  },
  {
   "cell_type": "markdown",
   "metadata": {},
   "source": [
    "wc counts the words and -l makes it count only the lines"
   ]
  },
  {
   "cell_type": "markdown",
   "metadata": {},
   "source": [
    "Problem 5"
   ]
  },
  {
   "cell_type": "code",
   "execution_count": 84,
   "metadata": {},
   "outputs": [
    {
     "name": "stdout",
     "output_type": "stream",
     "text": [
      "7215 Data_Only.txt\n"
     ]
    }
   ],
   "source": [
    "tail -7215 Locus_Germplasm_Phenotype_20130122.txt  > Data_Only.txt\n",
    "wc -l Data_Only.txt"
   ]
  },
  {
   "cell_type": "markdown",
   "metadata": {},
   "source": [
    "it writes all the lines except the first into the file Data_Only.txt, then it counts how many lines there are in that file "
   ]
  },
  {
   "cell_type": "markdown",
   "metadata": {},
   "source": [
    "Problem 6"
   ]
  },
  {
   "cell_type": "code",
   "execution_count": null,
   "metadata": {},
   "outputs": [],
   "source": [
    "grep -a \"root\" Locus_Germplasm_Phenotype_20130122.txt"
   ]
  },
  {
   "cell_type": "markdown",
   "metadata": {},
   "source": [
    "searches for all lines with the word root in the text file"
   ]
  },
  {
   "cell_type": "markdown",
   "metadata": {},
   "source": [
    "Problem 7"
   ]
  },
  {
   "cell_type": "code",
   "execution_count": 86,
   "metadata": {},
   "outputs": [
    {
     "ename": "",
     "evalue": "1",
     "output_type": "error",
     "traceback": []
    }
   ],
   "source": [
    "grep -a \"root\" Locus_Germplasm_Phenotype_20130122.txt | grep -ioa  \"^AT[1-5]G[0-9]{5}\" > Root-associated-Loci.txt"
   ]
  },
  {
   "cell_type": "markdown",
   "metadata": {},
   "source": [
    "First it searches for the word root, with the pipe, all the lines with the word root are forwardet to the next entrz where it searches for something in the beginning of the line, without caring about if it is large or lower case and using only the searched word. The sreached expression is the  \"Arabiodopsis Genome Initiative\" (AGI) Locus Code. With the structure :\n",
    "\n",
    "    The first character is \"A\" or \"a\"\n",
    "    The second character is \"T\" or \"t\"\n",
    "    The third character is the chromosome number (between 1 and 5)\n",
    "    The fourth character is \"G\" or \"g\"\n",
    "    The remaining characters are a set of 5 digits (between 0 and 9)\n",
    "\n",
    "This is then written in the file Root-associated-Loci.txt"
   ]
  },
  {
   "cell_type": "markdown",
   "metadata": {},
   "source": [
    "Problem 8"
   ]
  },
  {
   "cell_type": "code",
   "execution_count": 87,
   "metadata": {},
   "outputs": [
    {
     "ename": "",
     "evalue": "1",
     "output_type": "error",
     "traceback": []
    }
   ],
   "source": [
    "grep -a \"root\" Locus_Germplasm_Phenotype_20130122.txt | grep -ioa  '\\s[0-9]+$'  >  Root-associated-Publications.txt"
   ]
  },
  {
   "cell_type": "markdown",
   "metadata": {},
   "source": [
    "Problem 9"
   ]
  },
  {
   "cell_type": "code",
   "execution_count": 89,
   "metadata": {
    "scrolled": true
   },
   "outputs": [
    {
     "name": "stdout",
     "output_type": "stream",
     "text": [
      "815\n",
      "215\n",
      "151\n",
      "136\n",
      "75\n",
      "238\n"
     ]
    }
   ],
   "source": [
    "grep -a \"root\" Locus_Germplasm_Phenotype_20130122.txt | grep -ioa -E  \"^AT[1-5]G[0-9]{5}\"| wc -l \n",
    "grep -a \"root\" Locus_Germplasm_Phenotype_20130122.txt | grep -ioa -E \"^AT[1]G[0-9]{5}\" | wc -l\n",
    "grep -a \"root\" Locus_Germplasm_Phenotype_20130122.txt | grep -ioa -E \"^AT[2]G[0-9]{5}\" | wc -l\n",
    "grep -a \"root\" Locus_Germplasm_Phenotype_20130122.txt | grep -ioa -E \"^AT[3]G[0-9]{5}\" | wc -l\n",
    "grep -a \"root\" Locus_Germplasm_Phenotype_20130122.txt | grep -ioa -E \"^AT[4]G[0-9]{5}\" | wc -l\n",
    "grep -a \"root\" Locus_Germplasm_Phenotype_20130122.txt | grep -iao -E \"^AT[5]G[0-9]{5}\" | wc -l"
   ]
  },
  {
   "cell_type": "markdown",
   "metadata": {},
   "source": [
    "The Program counts how many lines with the word root exitst for each chromosome "
   ]
  }
 ],
 "metadata": {
  "kernelspec": {
   "display_name": "Bash",
   "language": "bash",
   "name": "bash"
  },
  "language_info": {
   "codemirror_mode": "shell",
   "file_extension": ".sh",
   "mimetype": "text/x-sh",
   "name": "bash"
  }
 },
 "nbformat": 4,
 "nbformat_minor": 2
}
